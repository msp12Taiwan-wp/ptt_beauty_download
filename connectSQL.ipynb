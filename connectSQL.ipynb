{
 "cells": [
  {
   "cell_type": "code",
   "execution_count": 2,
   "metadata": {},
   "outputs": [],
   "source": [
    "import MySQLdb"
   ]
  },
  {
   "cell_type": "code",
   "execution_count": 3,
   "metadata": {},
   "outputs": [],
   "source": [
    "def connectSQL():\n",
    "    conn = MySQLdb.connect(host='127.0.0.1',port=3306,user='root',passwd='',db='try_ptt_beauty')\n",
    "    cursor=conn.cursor()\n",
    "    return(conn,cursor)"
   ]
  },
  {
   "cell_type": "code",
   "execution_count": 4,
   "metadata": {},
   "outputs": [],
   "source": [
    "def insertSQL(conn,cursor,image_name,article_id):\n",
    "    SQLQuery=\"\"\"INSERT INTO PICTURE(IMAGE_NAME,SOURCE_URL)VALUES(%s,%s)\"\"\"\n",
    "    cursor.execute(SQLQuery,(image_name,article_id))\n",
    "    conn.commit()"
   ]
  },
  {
   "cell_type": "code",
   "execution_count": 5,
   "metadata": {},
   "outputs": [],
   "source": [
    "def disconnectSQL(conn):\n",
    "    conn.close()\n",
    "    \n",
    "    \n",
    "    "
   ]
  },
  {
   "cell_type": "code",
   "execution_count": 11,
   "metadata": {},
   "outputs": [
    {
     "name": "stderr",
     "output_type": "stream",
     "text": [
      "[NbConvertApp] Converting notebook connectSQL.ipynb to script\n",
      "[NbConvertApp] Writing 712 bytes to connectSQL.py\n"
     ]
    }
   ],
   "source": [
    "!jupyter nbconvert --to script connectSQL.ipynb"
   ]
  }
 ],
 "metadata": {
  "kernelspec": {
   "display_name": "Python 3",
   "language": "python",
   "name": "python3"
  },
  "language_info": {
   "codemirror_mode": {
    "name": "ipython",
    "version": 3
   },
   "file_extension": ".py",
   "mimetype": "text/x-python",
   "name": "python",
   "nbconvert_exporter": "python",
   "pygments_lexer": "ipython3",
   "version": "3.5.4"
  }
 },
 "nbformat": 4,
 "nbformat_minor": 2
}
